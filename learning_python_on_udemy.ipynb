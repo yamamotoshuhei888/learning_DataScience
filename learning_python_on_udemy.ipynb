{
 "cells": [
  {
   "cell_type": "code",
   "execution_count": 2,
   "metadata": {},
   "outputs": [
    {
     "ename": "ModuleNotFoundError",
     "evalue": "No module named 'cv2'",
     "output_type": "error",
     "traceback": [
      "\u001b[0;31m---------------------------------------------------------------------------\u001b[0m",
      "\u001b[0;31mModuleNotFoundError\u001b[0m                       Traceback (most recent call last)",
      "\u001b[0;32m<ipython-input-2-c8ec22b3e787>\u001b[0m in \u001b[0;36m<module>\u001b[0;34m\u001b[0m\n\u001b[0;32m----> 1\u001b[0;31m \u001b[0;32mimport\u001b[0m \u001b[0mcv2\u001b[0m\u001b[0;34m\u001b[0m\u001b[0;34m\u001b[0m\u001b[0m\n\u001b[0m",
      "\u001b[0;31mModuleNotFoundError\u001b[0m: No module named 'cv2'"
     ]
    }
   ],
   "source": [
    "import cv2"
   ]
  },
  {
   "cell_type": "code",
   "execution_count": 5,
   "metadata": {},
   "outputs": [
    {
     "name": "stdout",
     "output_type": "stream",
     "text": [
      "OK!\n"
     ]
    }
   ],
   "source": [
    "a = 10\n",
    "b = 20\n",
    "\n",
    "if a == 10:\n",
    "    print(\"OK!\")"
   ]
  },
  {
   "cell_type": "code",
   "execution_count": 12,
   "metadata": {},
   "outputs": [
    {
     "name": "stdout",
     "output_type": "stream",
     "text": [
      "0\n",
      "1\n",
      "2\n",
      "3\n",
      "4\n",
      "0\n",
      "1\n",
      "3\n",
      "4\n"
     ]
    }
   ],
   "source": [
    "#while文の使い方\n",
    "count = 0\n",
    "while count < 5:\n",
    "    print(count)\n",
    "    count += 1\n",
    "\n",
    "count = 0\n",
    "while True:\n",
    "    if count >=5:\n",
    "        break\n",
    "    if count == 2:\n",
    "        count += 1\n",
    "        continue #このループにおける以降の処理だけを飛ばす\n",
    "    print(count)\n",
    "    count += 1"
   ]
  },
  {
   "cell_type": "code",
   "execution_count": 16,
   "metadata": {},
   "outputs": [
    {
     "name": "stdout",
     "output_type": "stream",
     "text": [
      "0\n",
      "1\n",
      "2\n",
      "3\n",
      "4\n",
      "done\n",
      "0\n",
      "1\n",
      "2\n"
     ]
    }
   ],
   "source": [
    "#while-else文\n",
    "\n",
    "count = 0\n",
    "\n",
    "while count < 5:\n",
    "    print(count)\n",
    "    count += 1\n",
    "else:\n",
    "    print(\"done\") #whileの条件から外れた時だけ実行される\n",
    "    \n",
    "#while-else文\n",
    "\n",
    "count = 0\n",
    "\n",
    "while count < 5:\n",
    "    print(count)\n",
    "    if count == 2:\n",
    "        break      #ただしbreakではずれた時はelsenの内容は実行されない。\n",
    "    count += 1\n",
    "else:\n",
    "    print(\"done\")"
   ]
  },
  {
   "cell_type": "code",
   "execution_count": 18,
   "metadata": {},
   "outputs": [
    {
     "name": "stdout",
     "output_type": "stream",
     "text": [
      "Enter:100\n",
      "next\n",
      "Enter:Enter:\n",
      "next\n",
      "Enter:OK\n"
     ]
    }
   ],
   "source": [
    "#input関数\n",
    "while True:\n",
    "    word = input('Enter:') #wordという変数にユーザー入力を入れることができる。\n",
    "                           #Enterはその入力の前に表示される文字列 \n",
    "    if word == \"OK\":\n",
    "        break\n",
    "    print('next')"
   ]
  },
  {
   "cell_type": "code",
   "execution_count": 25,
   "metadata": {},
   "outputs": [
    {
     "name": "stdout",
     "output_type": "stream",
     "text": [
      "1\n",
      "2\n",
      "3\n",
      "4\n",
      "5\n",
      "1\n",
      "2\n",
      "3\n",
      "4\n",
      "5\n",
      "a\n",
      "b\n",
      "c\n",
      "d\n",
      "e\n",
      "a\n",
      "c\n"
     ]
    }
   ],
   "source": [
    "#for文でもcontinue, breakが同じように使うことができる。\n",
    "\n",
    "some_list = [1,2,3,4,5]\n",
    "\n",
    "i = 0\n",
    "while i < len(some_list):\n",
    "    print(some_list[i])\n",
    "    i += 1\n",
    "    \n",
    "i = 0\n",
    "for i in some_list: #forループでは上の処理が in で幾分楽に書ける。\n",
    "    print(i)\n",
    "\n",
    "for s in 'abcde': #このように、文字列を一つずつ出力することもできる。\n",
    "    print(s)\n",
    "\n",
    "for s in 'abcde':\n",
    "    if s == 'b':\n",
    "        continue\n",
    "    elif s == 'd':\n",
    "        break\n",
    "    print(s)\n",
    "    \n"
   ]
  },
  {
   "cell_type": "code",
   "execution_count": 30,
   "metadata": {},
   "outputs": [
    {
     "name": "stdout",
     "output_type": "stream",
     "text": [
      "apple\n",
      "banana\n",
      "orenge\n",
      "I ate all\n",
      "------\n",
      "apple\n",
      "stop eating\n"
     ]
    }
   ],
   "source": [
    "# for else 文\n",
    "\n",
    "for fruit in ['apple','banana','orenge']:\n",
    "    print(fruit)\n",
    "else:\n",
    "    print('I ate all')\n",
    "\n",
    "    \n",
    "print('------')\n",
    "for fruit in ['apple','banana','orenge']:\n",
    "    if fruit == 'banana':\n",
    "        print('stop eating')\n",
    "        break\n",
    "    print(fruit)\n",
    "else:\n",
    "    print('I ate all')"
   ]
  },
  {
   "cell_type": "code",
   "execution_count": 35,
   "metadata": {},
   "outputs": [
    {
     "name": "stdout",
     "output_type": "stream",
     "text": [
      "0\n",
      "1\n",
      "2\n",
      "3\n",
      "4\n",
      "5\n",
      "6\n",
      "7\n",
      "8\n",
      "9\n",
      "------\n",
      "2\n",
      "5\n",
      "8\n",
      "------\n",
      "Hello\n",
      "Hello\n",
      "Hello\n"
     ]
    }
   ],
   "source": [
    "#range関数\n",
    "\n",
    "num_lsit = [0,1,2,3,4,5,6,7,8,9]\n",
    "for i in num_lsit:\n",
    "    print(num_lsit[i])\n",
    "print('------')\n",
    "\n",
    "#range関数を使おう\n",
    "for i in range(2,10,3):\n",
    "    print(i)\n",
    "\n",
    "print('------')\n",
    "\n",
    "# アンダースコアを使うとループの中で使っていないことがわかって非常に良い。\n",
    "for _ in range(3):\n",
    "    print('Hello')"
   ]
  },
  {
   "cell_type": "code",
   "execution_count": 39,
   "metadata": {},
   "outputs": [
    {
     "name": "stdout",
     "output_type": "stream",
     "text": [
      "0 apple\n",
      "1 banana\n",
      "2 orenge\n",
      "こんな時にはenumerate関数を使おう！\n",
      "0 apple\n",
      "1 banana\n",
      "2 orenge\n"
     ]
    }
   ],
   "source": [
    "i = 0\n",
    "for fruit in ['apple','banana','orenge']:\n",
    "    print(i,fruit)\n",
    "    i += 1\n",
    "\n",
    "#こんな時にはenumerate関数を使おう！\n",
    "\n",
    "print('こんな時にはenumerate関数を使おう！')\n",
    "\n",
    "for i, fruit in enumerate(['apple','banana','orenge']):\n",
    "    print(i,fruit)\n"
   ]
  },
  {
   "cell_type": "code",
   "execution_count": 43,
   "metadata": {},
   "outputs": [
    {
     "name": "stdout",
     "output_type": "stream",
     "text": [
      "Mon apple coffee\n",
      "Tue banana tea\n",
      "Wed orenge beer\n",
      "zip関数を使うとこうなる\n",
      "Mon apple coffee\n",
      "Tue banana tea\n",
      "Wed orenge beer\n"
     ]
    }
   ],
   "source": [
    "#zip 関数\n",
    "\n",
    "days = ['Mon','Tue','Wed']\n",
    "fruits = ['apple','banana','orenge']\n",
    "drinks = ['coffee', 'tea','beer']\n",
    "\n",
    "for i in range(len(days)):\n",
    "    print(days[i],fruits[i],drinks[i])\n",
    "\n",
    "print('zip関数を使うとこうなる')\n",
    "\n",
    "# forの後が各listの中身を代入する変数となっていることに注意\n",
    "for day, fruit, drink in zip(days, fruits, drinks):\n",
    "    print(day, fruit, drink)"
   ]
  },
  {
   "cell_type": "code",
   "execution_count": 48,
   "metadata": {},
   "outputs": [
    {
     "name": "stdout",
     "output_type": "stream",
     "text": [
      "keyだけが出力される\n",
      "x\n",
      "y\n",
      "----\n",
      "keyとvalueを両方出力したい時はこんな形\n",
      "100 : x\n",
      "200 : y\n",
      "dict_items([('x', 100), ('y', 200)])\n"
     ]
    }
   ],
   "source": [
    "# 辞書をfor文で処理する\n",
    "\n",
    "d = {'x':100, 'y':200}\n",
    "\n",
    "print('keyだけが出力される')\n",
    "for v in d:\n",
    "    print(v)\n",
    "\n",
    "print('----')\n",
    "print('keyとvalueを両方出力したい時はこんな形')\n",
    "for k, v in d.items():\n",
    "    print(v,':',k)\n",
    "\n",
    "#これは頻用されてとても重要な形。\n",
    "print(d.items())"
   ]
  },
  {
   "cell_type": "code",
   "execution_count": 57,
   "metadata": {},
   "outputs": [
    {
     "name": "stdout",
     "output_type": "stream",
     "text": [
      "Hi\n",
      "\n",
      "---\n",
      "Hi\n",
      "\n",
      "---\n",
      "Hi\n",
      "\n",
      "---\n",
      "tomato\n",
      "green pepper\n",
      "I don't know\n"
     ]
    }
   ],
   "source": [
    "# 関数\n",
    "\n",
    "# 関数を先に書く。\n",
    "def say_somthing():\n",
    "    print('Hi')\n",
    "    \n",
    "say_somthing() #丸括弧を忘れずに。\n",
    "\n",
    "# こんな形も書ける\n",
    "print('\\n---')\n",
    "f = say_somthing\n",
    "f()\n",
    "\n",
    "print('\\n---')\n",
    "# 返り値\n",
    "def say_somthing():\n",
    "    s = 'Hi'\n",
    "    return s\n",
    "\n",
    "result = say_somthing()\n",
    "print(result)\n",
    "\n",
    "print('\\n---')\n",
    "# 引数\n",
    "\n",
    "def what_is_this(color):\n",
    "    if color == 'red':\n",
    "        return 'tomato'\n",
    "    elif color == 'green':\n",
    "        return 'green pepper'\n",
    "    else:\n",
    "        return \"I don't know\"\n",
    "    \n",
    "    print(color)\n",
    "    \n",
    "result = what_is_this('red')\n",
    "print(result)\n",
    "result = what_is_this('green')\n",
    "print(result)\n",
    "result = what_is_this('blue')\n",
    "print(result)"
   ]
  },
  {
   "cell_type": "code",
   "execution_count": 59,
   "metadata": {},
   "outputs": [
    {
     "name": "stdout",
     "output_type": "stream",
     "text": [
      "30\n",
      "ab\n"
     ]
    }
   ],
   "source": [
    "# 関数の宣言の型と戻り値の型\n",
    "\n",
    "num: int = 10\n",
    "\n",
    "def add_num(a: int, b: int) -> int:\n",
    "    return a + b\n",
    "\n",
    "r = add_num(10,20)\n",
    "print(r)\n",
    "\n",
    "# 実は文字列を入れることができてしまう。\n",
    "r = add_num('a','b')\n",
    "print(r)"
   ]
  },
  {
   "cell_type": "code",
   "execution_count": 72,
   "metadata": {},
   "outputs": [
    {
     "name": "stdout",
     "output_type": "stream",
     "text": [
      "beef\n",
      "\n",
      "---\n",
      "entree = beef\n",
      "drink= ice\n",
      "desert= beer\n",
      "\n",
      "---\n",
      "entree = beef\n",
      "drink= beer\n",
      "desert= ice\n",
      "\n",
      "---\n",
      "entree = chiken\n",
      "drink= wine\n",
      "desert= ice\n",
      "entree = chiken\n",
      "drink= water\n",
      "desert= pie\n"
     ]
    }
   ],
   "source": [
    "# 位置引数とキーワード引数とデフォルト引数\n",
    "\n",
    "def menu(entree):\n",
    "    print(entree)\n",
    "    \n",
    "menu('beef')\n",
    "\n",
    "print('\\n---')\n",
    "def menu_(entree, drink, desert):\n",
    "    print(\"entree =\", entree)\n",
    "    print(\"drink=\", drink)\n",
    "    print(\"desert=\", desert)\n",
    "    \n",
    "menu_('beef','ice','beer')\n",
    "\n",
    "print('\\n---')\n",
    "# 位置の間違えを起こしたくない時\n",
    "menu_(entree = 'beef', drink='beer', desert='ice')\n",
    "\n",
    "def default_menu(entree = 'chiken', drink='wine', desert='ice'):\n",
    "    print(\"entree =\", entree)\n",
    "    print(\"drink=\", drink)\n",
    "    print(\"desert=\", desert)\n",
    "\n",
    "print('\\n---')\n",
    "default_menu()\n",
    "default_menu(drink='water', desert='pie')"
   ]
  },
  {
   "cell_type": "code",
   "execution_count": 76,
   "metadata": {},
   "outputs": [
    {
     "name": "stdout",
     "output_type": "stream",
     "text": [
      "[1, 2, 3, 100]\n",
      "\n",
      "---\n",
      "[1, 2, 3, 200]\n",
      "\n",
      "---\n",
      "[1, 2, 3, 200, 200]\n",
      "[200]\n",
      "[200]\n"
     ]
    }
   ],
   "source": [
    "# default引数で気をつけること\n",
    "\n",
    "def test_func(x, l=[]):\n",
    "    l.append(x)\n",
    "    return l\n",
    "\n",
    "y = [1,2,3]\n",
    "r = test_func(100,y)\n",
    "print(r)\n",
    "\n",
    "print('\\n---')\n",
    "y = [1,2,3]\n",
    "r = test_func(200,y)\n",
    "print(r)\n",
    "\n",
    "print('\\n---')\n",
    "#y = [1,2,3]\n",
    "r = test_func(200,y)\n",
    "print(r)\n",
    "\n",
    "# LISTは関数のdefault値として指定すべきではない。\n",
    "# 参照渡しとなるlistやtupleのdefaultは、バグにつながる要因になる！！\n",
    "# では関数に常に空のlistを渡したい時にどうするべきなのか？\n",
    "\n",
    "def just_func(x, l=None):\n",
    "    if l is None:\n",
    "        l = []\n",
    "    l.append(x)\n",
    "    return l\n",
    "\n",
    "r = just_func(200)\n",
    "print(r)\n",
    "r = just_func(200)\n",
    "print(r)"
   ]
  },
  {
   "cell_type": "code",
   "execution_count": 87,
   "metadata": {},
   "outputs": [
    {
     "name": "stdout",
     "output_type": "stream",
     "text": [
      "Hi!\n",
      "Mike\n",
      "Nancy\n",
      "\n",
      "---\n",
      "Hi! Mike Nancy\n",
      "\n",
      "---\n",
      "word= Hi!\n",
      "Mike\n",
      "Nancy\n",
      "\n",
      "---\n",
      "word= Hi!\n",
      "Aki\n",
      "Toshi\n"
     ]
    }
   ],
   "source": [
    "# 位置引数のタプル化\n",
    "def say_something(word,word2, word3):\n",
    "    print(word)\n",
    "    print(word2)\n",
    "    print(word3)\n",
    "    \n",
    "say_something('Hi!','Mike','Nancy')\n",
    "\n",
    "# タプル化でもっと簡単に書くことができる。\n",
    "# この書き方が重要\n",
    "\n",
    "print('\\n---')\n",
    "def say_things(*args):\n",
    "    print(*args) #タプルとして代入されている。\n",
    "    \n",
    "say_things('Hi!','Mike','Nancy')\n",
    "\n",
    "#こんな風にも書ける。\n",
    "\n",
    "print('\\n---')\n",
    "def say_thingss(word, *args):\n",
    "    print('word=', word)\n",
    "    for arg in args:\n",
    "        print(arg)\n",
    "    \n",
    "say_thingss('Hi!','Mike','Nancy')\n",
    "\n",
    "# タプルのアンパッキング\n",
    "print('\\n---')\n",
    "t = ('Aki', 'Toshi')\n",
    "say_thingss('Hi!',*t)\n",
    "\n"
   ]
  },
  {
   "cell_type": "code",
   "execution_count": 94,
   "metadata": {},
   "outputs": [
    {
     "name": "stdout",
     "output_type": "stream",
     "text": [
      "beef coffee\n",
      "\n",
      "---\n",
      "entree beef\n",
      "drink coffee\n",
      "\n",
      "---\n",
      "entree beef\n",
      "drink ice coffee\n",
      "dessert pie\n"
     ]
    }
   ],
   "source": [
    "def menu(entree='beef', drink='wine'):\n",
    "    print(entree, drink)\n",
    "\n",
    "menu(entree = 'beef', drink = 'coffee')\n",
    "\n",
    "#　引数をさらに追加したい時。\n",
    "print('\\n---')\n",
    "\n",
    "def menu_(**kwargs): #Key Ward を指定\n",
    "    for k, v in kwargs.items():\n",
    "        print(k,v)\n",
    "        \n",
    "menu_(entree = 'beef', drink = 'coffee')\n",
    "\n",
    "#　辞書型で受け渡すのも見やすくてスマート。\n",
    "print('\\n---')\n",
    "\n",
    "d = {\n",
    "    'entree': 'beef',\n",
    "    'drink': 'ice coffee',\n",
    "    'dessert': 'pie'\n",
    "}\n",
    "\n",
    "menu_(**d)"
   ]
  },
  {
   "cell_type": "code",
   "execution_count": 95,
   "metadata": {},
   "outputs": [
    {
     "name": "stdout",
     "output_type": "stream",
     "text": [
      "banana\n",
      "('apple', 'orenge')\n",
      "{'entree': 'beef', 'drinks': 'coffee'}\n"
     ]
    }
   ],
   "source": [
    "#タプル化の処理やキーワードの処理もまとめて行うことができる。\n",
    "def menu(food, *args, **kwargs):\n",
    "    print(food)\n",
    "    print(args)\n",
    "    print(kwargs)\n",
    "    \n",
    "menu('banana','apple','orenge', entree='beef',drinks='coffee')"
   ]
  },
  {
   "cell_type": "code",
   "execution_count": 98,
   "metadata": {},
   "outputs": [
    {
     "data": {
      "text/plain": [
       "'ここにFanctionの説明を書く\\n    \\n    Args:\\n        param1(int):~~~\\n        param2(str):~~~\\n        \\n    Returns:\\n        bool: The return value. True for sucess, false otherwise.\\n    \\n    \\n    '"
      ]
     },
     "execution_count": 98,
     "metadata": {},
     "output_type": "execute_result"
    }
   ],
   "source": [
    "# 関数内の記述\n",
    "def examples_func(param1, param2):\n",
    "    \"\"\"ここにFanctionの説明を書く\n",
    "    \n",
    "    Args:\n",
    "        param1(int):~~~\n",
    "        param2(str):~~~\n",
    "        \n",
    "    Returns:\n",
    "        bool: The return value. True for sucess, false otherwise.\n",
    "    \n",
    "    \n",
    "    \"\"\"\n",
    "# __doc__で内容を参照する。\n",
    "examples_func.__doc__\n"
   ]
  },
  {
   "cell_type": "code",
   "execution_count": 102,
   "metadata": {},
   "outputs": [
    {
     "name": "stdout",
     "output_type": "stream",
     "text": [
      "3\n"
     ]
    }
   ],
   "source": [
    "# 関数内関数\n",
    "\n",
    "def outer(a, b):\n",
    "    def plus(c, d):\n",
    "        return c+d\n",
    "        \n",
    "    r = plus(a,b)\n",
    "    print(r)\n",
    "    \n",
    "outer(1,2)"
   ]
  },
  {
   "cell_type": "code",
   "execution_count": 105,
   "metadata": {},
   "outputs": [
    {
     "name": "stdout",
     "output_type": "stream",
     "text": [
      "<function outer.<locals>.inner at 0x10cef8820>\n",
      "3\n",
      "どんな時に使うの？？\n",
      "314.0\n",
      "314.1592\n"
     ]
    }
   ],
   "source": [
    "# closure: 結構高度な関数\n",
    "\n",
    "def outer(a, b):\n",
    "    \n",
    "    def inner():\n",
    "        return a + b\n",
    "    \n",
    "    return inner # inner()ではないので、この時点ではinner関数は実行されない。\n",
    "\n",
    "f = outer(1,2)\n",
    "print(f)\n",
    "r = f() # ここで始めてinner()関数が実行される。\n",
    "print(r)\n",
    "\n",
    "print(\"\"\"どんな時に使うの？？\"\"\")\n",
    "\n",
    "def circle_area_func(pi):\n",
    "    def cirles_area(radius):\n",
    "        return pi * radius * radius\n",
    "    \n",
    "    return cirles_area\n",
    "\n",
    "ca1 = circle_area_func(3.14)\n",
    "ca2 = circle_area_func(3.141592)\n",
    "\n",
    "print(ca1(10))\n",
    "print(ca2(10))\n",
    "\n",
    "# 始めに設定値をいれておいて、のちのち用途によって使い分けたいときなど。\n",
    "# 他にもいろいろ用途があるらしいです。"
   ]
  },
  {
   "cell_type": "code",
   "execution_count": 116,
   "metadata": {},
   "outputs": [
    {
     "name": "stdout",
     "output_type": "stream",
     "text": [
      "start\n",
      "end\n",
      "30\n",
      "\n",
      "----------------\n",
      "start\n",
      "end\n",
      "30\n",
      "start\n",
      "end\n",
      "10\n",
      "\n",
      "----------------\n",
      "start\n",
      "func: add_num\n",
      "args: (10, 20)\n",
      "kwargs: {}\n",
      "result: 30\n",
      "end\n",
      "30\n"
     ]
    }
   ],
   "source": [
    "# デコレーター\n",
    "# この書き方だと「デコレーター」だとわかりづらい\n",
    "\n",
    "def print_info(func):\n",
    "    def wrapper(*args, **kwargs):\n",
    "        print('start')\n",
    "        result = func(*args, **kwargs)\n",
    "        print('end')\n",
    "        return result\n",
    "    return wrapper\n",
    "\n",
    "def add_num(a, b):\n",
    "    return a + b\n",
    "\n",
    "f = print_info(add_num)\n",
    "# print(f)\n",
    "r = f(10, 20)\n",
    "print(r)\n",
    "\n",
    "# ↓こうすると良い\n",
    "print('\\n----------------')\n",
    "def print_info(func):\n",
    "    def wrapper(*args, **kwargs):\n",
    "        print('start')\n",
    "        result = func(*args, **kwargs)\n",
    "        print('end')\n",
    "        return result\n",
    "    return wrapper\n",
    "\n",
    "@print_info #これを書いておくことで、関数の処理を追加したりなどの”修飾”ができる。\n",
    "def add_num(a, b):\n",
    "    return a + b\n",
    "\n",
    "r = f(10, 20)\n",
    "print(r)\n",
    "\n",
    "@print_info #しかもデコレーターは使い回すことができる。\n",
    "def sub_num(a, b):\n",
    "    return a - b\n",
    "\n",
    "rr = sub_num(20, 10)\n",
    "print(rr)\n",
    "\n",
    "\n",
    "print('\\n----------------')\n",
    "def print_more(func):\n",
    "    def wrapper(*args, **kwargs):\n",
    "        print('func:', func.__name__)\n",
    "        print('args:',args)\n",
    "        print('kwargs:',kwargs)\n",
    "        result = func(*args, **kwargs)\n",
    "        print('result:',result)\n",
    "        return result\n",
    "    return wrapper\n",
    "\n",
    "@print_info  # 二重にできる。上に書いた方が先に実行される。\n",
    "@print_more  # っていうか print_info(print_more(add_num))のように二重に包み込まれるイメージ\n",
    "def add_num(a, b):\n",
    "    return a + b\n",
    "\n",
    "r = add_num(10, 20)\n",
    "print(r)\n"
   ]
  },
  {
   "cell_type": "code",
   "execution_count": null,
   "metadata": {},
   "outputs": [],
   "source": []
  },
  {
   "cell_type": "code",
   "execution_count": null,
   "metadata": {},
   "outputs": [],
   "source": []
  },
  {
   "cell_type": "code",
   "execution_count": null,
   "metadata": {},
   "outputs": [],
   "source": []
  },
  {
   "cell_type": "code",
   "execution_count": null,
   "metadata": {},
   "outputs": [],
   "source": []
  },
  {
   "cell_type": "code",
   "execution_count": null,
   "metadata": {},
   "outputs": [],
   "source": []
  },
  {
   "cell_type": "code",
   "execution_count": null,
   "metadata": {},
   "outputs": [],
   "source": []
  },
  {
   "cell_type": "code",
   "execution_count": null,
   "metadata": {},
   "outputs": [],
   "source": []
  },
  {
   "cell_type": "code",
   "execution_count": null,
   "metadata": {},
   "outputs": [],
   "source": []
  },
  {
   "cell_type": "code",
   "execution_count": null,
   "metadata": {},
   "outputs": [],
   "source": []
  },
  {
   "cell_type": "code",
   "execution_count": null,
   "metadata": {},
   "outputs": [],
   "source": []
  },
  {
   "cell_type": "code",
   "execution_count": null,
   "metadata": {},
   "outputs": [],
   "source": []
  },
  {
   "cell_type": "code",
   "execution_count": null,
   "metadata": {},
   "outputs": [],
   "source": []
  },
  {
   "cell_type": "code",
   "execution_count": null,
   "metadata": {},
   "outputs": [],
   "source": []
  }
 ],
 "metadata": {
  "kernelspec": {
   "display_name": "Python 3",
   "language": "python",
   "name": "python3"
  },
  "language_info": {
   "codemirror_mode": {
    "name": "ipython",
    "version": 3
   },
   "file_extension": ".py",
   "mimetype": "text/x-python",
   "name": "python",
   "nbconvert_exporter": "python",
   "pygments_lexer": "ipython3",
   "version": "3.8.2"
  }
 },
 "nbformat": 4,
 "nbformat_minor": 4
}
